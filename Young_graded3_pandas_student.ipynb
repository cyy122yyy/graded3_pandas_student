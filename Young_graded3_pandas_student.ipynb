{
  "cells": [
    {
      "cell_type": "markdown",
      "source": [],
      "metadata": {
        "id": "yQ8mGD3yzFRz"
      },
      "id": "yQ8mGD3yzFRz"
    },
    {
      "cell_type": "markdown",
      "source": [
        "Name: Cheska Ysabelle G. Young\n",
        "\n",
        "Course: BSFIN\n",
        "\n",
        "Section: DATA100 S17\n",
        "\n",
        "References used: w3resource, google colab"
      ],
      "metadata": {
        "id": "FrXC8JF91RuF"
      },
      "id": "FrXC8JF91RuF"
    },
    {
      "cell_type": "markdown",
      "id": "174e376c",
      "metadata": {
        "id": "174e376c"
      },
      "source": [
        "# Zomato Exercise"
      ]
    },
    {
      "cell_type": "markdown",
      "id": "2d84fdf3",
      "metadata": {
        "id": "2d84fdf3"
      },
      "source": [
        "Zomato is a restaurant aggregator website. The platform provides information, menus and user-reviews of restaurants as well as food delivery options from partner restaurants in select cities. You have been provided 3 datasets:\n",
        "\n",
        "- zomato.csv contains restaurant information like average_cost_for_two, cuisines\n",
        "- location.csv contains location of the restaurants like address, city, locality & etc\n",
        "- ratings.csv contains aggregate rating for each restaurant\n",
        "\n",
        "The different files are connected using the `id` columns which can be found in the different files. The id column is a unique identifier to represent a restaurant. You can use this to **merge** the different files."
      ]
    },
    {
      "cell_type": "code",
      "execution_count": 31,
      "id": "5337de5f",
      "metadata": {
        "id": "5337de5f"
      },
      "outputs": [],
      "source": [
        "import pandas as pd\n",
        "import numpy as np"
      ]
    },
    {
      "cell_type": "markdown",
      "id": "77605fbc",
      "metadata": {
        "id": "77605fbc"
      },
      "source": [
        "1. Merge the zomato, location & ratings file into a signle dataframe and store it to the `merged_df` variable **(3pts)**"
      ]
    },
    {
      "cell_type": "code",
      "execution_count": 32,
      "id": "ddbd0bb1",
      "metadata": {
        "id": "ddbd0bb1"
      },
      "outputs": [],
      "source": [
        "zomato_df = pd.read_csv('zomato.csv')\n",
        "location_df = pd.read_csv('location.csv')\n",
        "ratings_df = pd.read_csv('ratings.csv')\n",
        "merged_df = pd.merge(zomato_df, location_df, on='id')\n",
        "merged_df = pd.merge(merged_df, ratings_df, on='id')"
      ]
    },
    {
      "cell_type": "code",
      "execution_count": 33,
      "id": "b2a86a44",
      "metadata": {
        "id": "b2a86a44"
      },
      "outputs": [],
      "source": [
        "assert (6830, 35)==merged_df.shape\n",
        "\n",
        "cols = ['id', 'address', 'city', 'city_id', 'country_id', 'latitude',\n",
        "       'locality', 'locality_verbose', 'longitude', 'zipcode',\n",
        "       'aggregate_rating', 'rating_color', 'rating_text', 'votes',\n",
        "       'average_cost_for_two', 'book_url', 'cuisines', 'currency', 'deeplink',\n",
        "       'events_url', 'featured_image', 'has_online_delivery',\n",
        "       'has_table_booking', 'include_bogo_offers', 'is_book_form_web_view',\n",
        "       'is_delivering_now', 'is_table_reservation_supported',\n",
        "       'is_zomato_book_res', 'menu_url', 'mezzo_provider', 'name',\n",
        "       'photos_url', 'price_range', 'thumb', 'url']\n",
        "\n",
        "assert sorted(merged_df.columns) == sorted(cols)"
      ]
    },
    {
      "cell_type": "markdown",
      "id": "02223abe",
      "metadata": {
        "id": "02223abe"
      },
      "source": [
        "2. Create a function that returns the average aggregate rating for each city. Expected returned value is a Series datatype which contains name of city as index and average aggregate rating as value. **(2pts)**"
      ]
    },
    {
      "cell_type": "code",
      "execution_count": 34,
      "id": "bd7d8f34",
      "metadata": {
        "id": "bd7d8f34",
        "colab": {
          "base_uri": "https://localhost:8080/"
        },
        "outputId": "efbd7710-fd30-4de6-f66a-241d81dc3174"
      },
      "outputs": [
        {
          "output_type": "stream",
          "name": "stdout",
          "text": [
            "city\n",
            "Caloocan City       1.953509\n",
            "Las Piñas City      2.855738\n",
            "Makati City         3.250512\n",
            "Malabon City        1.558333\n",
            "Mandaluyong City    2.951919\n",
            "Manila              2.842652\n",
            "Marikina City       2.672512\n",
            "Muntinlupa City     2.962682\n",
            "Parañaque City      3.130100\n",
            "Pasay City          3.302075\n",
            "Pasig City          2.916086\n",
            "Pateros City        1.740000\n",
            "Quezon City         2.887946\n",
            "San Juan City       3.098462\n",
            "Tagaytay City       2.959259\n",
            "Taguig City         3.234105\n",
            "Valenzuela City     1.890741\n",
            "Name: aggregate_rating, dtype: float64\n"
          ]
        }
      ],
      "source": [
        "def exercise_2(merged_df):\n",
        "    avg_ratings = merged_df.groupby('city')['aggregate_rating'].mean()\n",
        "    return avg_ratings\n",
        "\n",
        "average_ratings_by_city = exercise_2(merged_df)\n",
        "print(average_ratings_by_city)"
      ]
    },
    {
      "cell_type": "code",
      "execution_count": 35,
      "id": "10e5b4c1",
      "metadata": {
        "id": "10e5b4c1"
      },
      "outputs": [],
      "source": [
        "res_series = exercise_2(merged_df)\n",
        "assert True == np.isclose(3.302075, res_series[res_series.index == 'Pasay City'],\n",
        "                          rtol=1e-05, atol=1e-08, equal_nan=False)[0]\n",
        "assert True == np.isclose(1.890741, res_series[res_series.index == 'Valenzuela City'],\n",
        "                          rtol=1e-05, atol=1e-08, equal_nan=False)[0]\n",
        "assert True == np.isclose(1.558333, res_series[res_series.index == 'Malabon City'],\n",
        "                          rtol=1e-05, atol=1e-08, equal_nan=False)[0]"
      ]
    },
    {
      "cell_type": "markdown",
      "id": "5db591ac",
      "metadata": {
        "id": "5db591ac"
      },
      "source": [
        "3. Using the apply function of pandas convert the rating_text to a numeric equivalent. You are to introduce a new column in merged_df called `rating_numeric` which is based on the value from rating_text: **(3pts)**\n",
        "\n",
        "Excellent = 5 <br>\n",
        "Very Good = 4 <br>\n",
        "Good = 3 <br>\n",
        "Average = 2 <br>\n",
        "Poor = 1 <br>\n",
        "Not rated = 0 <br>"
      ]
    },
    {
      "cell_type": "code",
      "execution_count": 36,
      "id": "41293771",
      "metadata": {
        "id": "41293771",
        "colab": {
          "base_uri": "https://localhost:8080/"
        },
        "outputId": "0a20ad03-07c5-45dd-f1fb-58e84f7048d5"
      },
      "outputs": [
        {
          "output_type": "stream",
          "name": "stdout",
          "text": [
            "     rating_text  rating_numeric\n",
            "0      Excellent               5\n",
            "1      Excellent               5\n",
            "2      Very Good               4\n",
            "3      Very Good               4\n",
            "4      Excellent               5\n",
            "...          ...             ...\n",
            "6825     Average               2\n",
            "6826     Average               2\n",
            "6827   Not rated               0\n",
            "6828        Good               3\n",
            "6829   Not rated               0\n",
            "\n",
            "[6830 rows x 2 columns]\n"
          ]
        }
      ],
      "source": [
        "def convert_rating_text_to_numeric(rating_text):\n",
        "    rating_map = {\n",
        "        'Excellent': 5,\n",
        "        'Very Good': 4,\n",
        "        'Good': 3,\n",
        "        'Average': 2,\n",
        "        'Poor': 1,\n",
        "        'Not rated': 0\n",
        "    }\n",
        "    return rating_map.get(rating_text, 0)\n",
        "merged_df['rating_numeric'] = merged_df['rating_text'].apply(convert_rating_text_to_numeric)\n",
        "print(merged_df[['rating_text', 'rating_numeric']])"
      ]
    },
    {
      "cell_type": "code",
      "execution_count": 37,
      "id": "c62df922",
      "metadata": {
        "id": "c62df922"
      },
      "outputs": [],
      "source": [
        "assert 868 == merged_df[merged_df.rating_numeric == 0].shape[0]\n",
        "assert True == ('rating_numeric' in merged_df.columns)"
      ]
    },
    {
      "cell_type": "markdown",
      "id": "97ec4197",
      "metadata": {
        "id": "97ec4197"
      },
      "source": [
        "4. Create a function which filters the merged dataframe to only contain rows coming in from a specific city. Expected returned value is a dataframe **(2pts)**"
      ]
    },
    {
      "cell_type": "code",
      "execution_count": 38,
      "id": "9773b18e",
      "metadata": {
        "id": "9773b18e"
      },
      "outputs": [],
      "source": [
        "def exercise_4(merged_df, city):\n",
        "    \"\"\"\n",
        "    Filters the merged DataFrame to only include rows for a city specified by the user.\n",
        "\n",
        "    Parameters:\n",
        "    merged_df (pd.DataFrame): The DataFrame to filter.\n",
        "\n",
        "    Returns:\n",
        "    pd.DataFrame: A DataFrame containing only the rows for the specified city.\n",
        "    \"\"\"\n",
        "    filtered_df = merged_df[merged_df['city'].str.lower() == city.lower()]\n",
        "    return filtered_df"
      ]
    },
    {
      "cell_type": "code",
      "execution_count": 39,
      "id": "1ca29a81",
      "metadata": {
        "id": "1ca29a81"
      },
      "outputs": [],
      "source": [
        "\n",
        "assert 'Makati City' == exercise_4(merged_df, 'Makati City').city.unique()[0]\n",
        "assert (976, 36) == exercise_4(merged_df, 'Makati City').shape\n",
        "\n",
        "assert 'Mandaluyong City' == exercise_4(merged_df, 'Mandaluyong City').city.unique()[0]\n",
        "assert (443, 36) == exercise_4(merged_df, 'Mandaluyong City').shape\n",
        "\n",
        "assert (0, 36) == exercise_4(merged_df, 'Quezon  City').shape"
      ]
    },
    {
      "cell_type": "code",
      "source": [
        "filtered_makati = exercise_4(merged_df, 'Makati City')\n",
        "print(filtered_makati.head())"
      ],
      "metadata": {
        "colab": {
          "base_uri": "https://localhost:8080/"
        },
        "id": "vwNpD5hTt4Xo",
        "outputId": "1647354b-70a6-4dfd-a95d-c281cd7371c0"
      },
      "id": "vwNpD5hTt4Xo",
      "execution_count": 40,
      "outputs": [
        {
          "output_type": "stream",
          "name": "stdout",
          "text": [
            "          id  average_cost_for_two book_url                   cuisines  \\\n",
            "0    6316125                  1000      NaN            Japanese, Ramen   \n",
            "1   18409457                  1300      NaN  Korean, Grill, Korean BBQ   \n",
            "2    6307689                  1600      NaN         American, Filipino   \n",
            "7    6304287                  1200      NaN                   Japanese   \n",
            "10   6304833                   700      NaN                   Filipino   \n",
            "\n",
            "   currency                      deeplink  \\\n",
            "0         P   zomato://restaurant/6316125   \n",
            "1         P  zomato://restaurant/18409457   \n",
            "2         P   zomato://restaurant/6307689   \n",
            "7         P   zomato://restaurant/6304287   \n",
            "10        P   zomato://restaurant/6304833   \n",
            "\n",
            "                                           events_url  \\\n",
            "0   https://www.zomato.com/manila/mendokoro-ramenb...   \n",
            "1   https://www.zomato.com/manila/soban-k-town-gri...   \n",
            "2   https://www.zomato.com/manila/filling-station-...   \n",
            "7   https://www.zomato.com/manila/izakaya-kikufuji...   \n",
            "10  https://www.zomato.com/manila/manam-greenbelt-...   \n",
            "\n",
            "                                       featured_image  has_online_delivery  \\\n",
            "0   https://b.zmtcdn.com/data/reviews_photos/971/2...                    0   \n",
            "1   https://b.zmtcdn.com/data/res_imagery/18290970...                    0   \n",
            "2   https://b.zmtcdn.com/data/pictures/9/6307689/b...                    0   \n",
            "7   https://b.zmtcdn.com/data/res_imagery/6304287_...                    0   \n",
            "10  https://b.zmtcdn.com/data/pictures/chains/3/63...                    0   \n",
            "\n",
            "    has_table_booking  ...   latitude  \\\n",
            "0                   0  ...  14.560313   \n",
            "1                   0  ...  14.552137   \n",
            "2                   0  ...  14.563144   \n",
            "7                   0  ...  14.553708   \n",
            "10                  0  ...  14.551920   \n",
            "\n",
            "                                      locality  \\\n",
            "0                              Salcedo Village   \n",
            "1        Greenbelt 3, San Lorenzo, Makati City   \n",
            "2                                    Poblacion   \n",
            "7   Little Tokyo, Legaspi Village, Makati City   \n",
            "10       Greenbelt 2, San Lorenzo, Makati City   \n",
            "\n",
            "                                     locality_verbose   longitude  zipcode  \\\n",
            "0                        Salcedo Village, Makati City  121.024638      NaN   \n",
            "1   Greenbelt 3, San Lorenzo, Makati City, Makati ...  121.021325      NaN   \n",
            "2                              Poblacion, Makati City  121.029800   1210.0   \n",
            "7   Little Tokyo, Legaspi Village, Makati City, Ma...  121.014101      NaN   \n",
            "10  Greenbelt 2, San Lorenzo, Makati City, Makati ...  121.020485      NaN   \n",
            "\n",
            "   aggregate_rating rating_color rating_text votes  rating_numeric  \n",
            "0               4.9       3F7E00   Excellent  1394               5  \n",
            "1               4.6       3F7E00   Excellent   602               5  \n",
            "2               4.0       5BA829   Very Good   563               4  \n",
            "7               4.5       3F7E00   Excellent  1031               5  \n",
            "10              4.5       3F7E00   Excellent   700               5  \n",
            "\n",
            "[5 rows x 36 columns]\n"
          ]
        }
      ]
    },
    {
      "cell_type": "markdown",
      "id": "ca7bf3c1",
      "metadata": {
        "id": "ca7bf3c1"
      },
      "source": [
        "5. Create a function to filter the dataframe to only contain certain columns passed in the function. Expected returned value is a dataframe **(1pt)**"
      ]
    },
    {
      "cell_type": "code",
      "execution_count": 41,
      "id": "59787577",
      "metadata": {
        "id": "59787577"
      },
      "outputs": [],
      "source": [
        "def exercise_5(merged_df, cols_to_filter):\n",
        "    \"\"\"\n",
        "    Filters the merged DataFrame to only include specified columns.\n",
        "\n",
        "    Parameters:\n",
        "    merged_df (pd.DataFrame): The DataFrame to filter.\n",
        "    cols_to_filter (list): A list of column names to keep in the DataFrame.\n",
        "\n",
        "    Returns:\n",
        "    pd.DataFrame: A DataFrame containing only the specified columns.\n",
        "    \"\"\"\n",
        "    return merged_df[cols_to_filter]"
      ]
    },
    {
      "cell_type": "code",
      "execution_count": 42,
      "id": "da27c054",
      "metadata": {
        "id": "da27c054"
      },
      "outputs": [],
      "source": [
        "cols = ['name', 'cuisines', 'city', 'aggregate_rating']\n",
        "assert sorted(cols) == sorted(exercise_5(merged_df, cols).columns)\n",
        "assert (6830, 4) == exercise_5(merged_df, cols).shape\n",
        "\n",
        "cols = ['average_cost_for_two', 'book_url', 'cuisines', 'currency', 'deeplink',\n",
        "       'events_url', 'featured_image', 'has_online_delivery',\n",
        "       'has_table_booking', 'include_bogo_offers', 'is_book_form_web_view']\n",
        "assert sorted(cols) == sorted(exercise_5(merged_df, cols).columns)\n",
        "assert (6830, 11) == exercise_5(merged_df, cols).shape\n"
      ]
    },
    {
      "cell_type": "markdown",
      "id": "d69c7e2e",
      "metadata": {
        "id": "d69c7e2e"
      },
      "source": [
        "6.  What is the most common restaurant name in the dataset? **(2pts)** Write down your answer and show code used to come up with the answer."
      ]
    },
    {
      "cell_type": "code",
      "execution_count": 43,
      "id": "cf9cdab1",
      "metadata": {
        "id": "cf9cdab1",
        "colab": {
          "base_uri": "https://localhost:8080/"
        },
        "outputId": "4abea847-0c17-491f-be0c-384568556ebb"
      },
      "outputs": [
        {
          "output_type": "stream",
          "name": "stdout",
          "text": [
            "The most common restaurant name is: Starbucks\n",
            "It appears 99 times in the dataset.\n"
          ]
        }
      ],
      "source": [
        "most_common_name = merged_df['name'].value_counts().idxmax()\n",
        "\n",
        "most_common_count = merged_df['name'].value_counts().max()\n",
        "\n",
        "print(\"The most common restaurant name is:\", most_common_name)\n",
        "print(\"It appears\", most_common_count, \"times in the dataset.\")"
      ]
    },
    {
      "cell_type": "markdown",
      "id": "7675b4b1",
      "metadata": {
        "id": "7675b4b1"
      },
      "source": [
        "7. Which restaurant has the most expensive average cost for two? **(2pts)** Write down your answer and show code used to come up with the answer."
      ]
    },
    {
      "cell_type": "code",
      "execution_count": 44,
      "id": "b447b440",
      "metadata": {
        "id": "b447b440",
        "colab": {
          "base_uri": "https://localhost:8080/"
        },
        "outputId": "01a0c671-2914-40ca-dc12-154886571cc4"
      },
      "outputs": [
        {
          "output_type": "stream",
          "name": "stdout",
          "text": [
            "The restaurant with the most expensive average cost for two is 'The Tasting Room' with an average cost of 10000.\n"
          ]
        }
      ],
      "source": [
        "merged_df['average_cost_for_two'] = pd.to_numeric(merged_df['average_cost_for_two'], errors='coerce')\n",
        "most_expensive_restaurant = merged_df.sort_values(by='average_cost_for_two', ascending=False).iloc[0]\n",
        "\n",
        "restaurant_name = most_expensive_restaurant['name']\n",
        "average_cost = most_expensive_restaurant['average_cost_for_two']\n",
        "\n",
        "print(f\"The restaurant with the most expensive average cost for two is '{restaurant_name}' with an average cost of {average_cost}.\")"
      ]
    },
    {
      "cell_type": "markdown",
      "id": "af873fb7",
      "metadata": {
        "id": "af873fb7"
      },
      "source": [
        "8. How many restaurants do not have a zipcode? **(1pt)** Write down your answer and show code used to come up with the answer."
      ]
    },
    {
      "cell_type": "code",
      "execution_count": 45,
      "id": "43f1234a",
      "metadata": {
        "id": "43f1234a",
        "colab": {
          "base_uri": "https://localhost:8080/"
        },
        "outputId": "f1bf0714-09c2-4c0b-efc8-a82bc076bbe0"
      },
      "outputs": [
        {
          "output_type": "stream",
          "name": "stdout",
          "text": [
            "There are 6713 restaurants without a zipcode.\n"
          ]
        }
      ],
      "source": [
        "restaurants_without_zipcode = merged_df[merged_df['zipcode'].isnull() | (merged_df['zipcode'] == '')]\n",
        "count_without_zipcode = restaurants_without_zipcode.shape[0]\n",
        "\n",
        "print(f\"There are {count_without_zipcode} restaurants without a zipcode.\")"
      ]
    },
    {
      "cell_type": "markdown",
      "id": "9347ac03",
      "metadata": {
        "id": "9347ac03"
      },
      "source": [
        "9. How many restaurants in the dataset allow online delivery? **(1pt)** Write down your answer and show code used to come up with the answer."
      ]
    },
    {
      "cell_type": "code",
      "execution_count": 46,
      "id": "24b62212",
      "metadata": {
        "id": "24b62212",
        "colab": {
          "base_uri": "https://localhost:8080/"
        },
        "outputId": "fa121a78-0d0c-4575-f79f-32eba3765c50"
      },
      "outputs": [
        {
          "output_type": "stream",
          "name": "stdout",
          "text": [
            "There are 0 restaurants that allow online delivery.\n"
          ]
        }
      ],
      "source": [
        "restaurants_with_online_delivery = merged_df[merged_df['has_online_delivery'] == 1]\n",
        "count_with_online_delivery = restaurants_with_online_delivery.shape[0]\n",
        "\n",
        "print(f\"There are {count_with_online_delivery} restaurants that allow online delivery.\")"
      ]
    },
    {
      "cell_type": "markdown",
      "id": "7f2c7aa3",
      "metadata": {
        "id": "7f2c7aa3"
      },
      "source": [
        "10. Which locatlity has more expensive food? Poblacion or Salcedo Village? **(3pts)** Write down your answer and show code used to come up with the answer.\n"
      ]
    },
    {
      "cell_type": "code",
      "execution_count": 47,
      "id": "8fb7ce16",
      "metadata": {
        "id": "8fb7ce16",
        "colab": {
          "base_uri": "https://localhost:8080/"
        },
        "outputId": "50ca1919-f1ca-4670-ba12-532e4fe3505c"
      },
      "outputs": [
        {
          "output_type": "stream",
          "name": "stdout",
          "text": [
            "Average cost for two in Poblacion: 898.2142857142857\n",
            "Average cost for two in Salcedo Village: 989.1025641025641\n",
            "The locality with more expensive food is: Salcedo Village\n"
          ]
        }
      ],
      "source": [
        "average_cost_poblacion = merged_df[merged_df['locality'] == 'Poblacion']['average_cost_for_two'].mean()\n",
        "average_cost_salcedo = merged_df[merged_df['locality'] == 'Salcedo Village']['average_cost_for_two'].mean()\n",
        "\n",
        "print(f\"Average cost for two in Poblacion: {average_cost_poblacion}\")\n",
        "print(f\"Average cost for two in Salcedo Village: {average_cost_salcedo}\")\n",
        "\n",
        "if average_cost_poblacion > average_cost_salcedo:\n",
        "    more_expensive_locality = \"Poblacion\"\n",
        "else:\n",
        "    more_expensive_locality = \"Salcedo Village\"\n",
        "\n",
        "print(f\"The locality with more expensive food is: {more_expensive_locality}\")"
      ]
    }
  ],
  "metadata": {
    "kernelspec": {
      "display_name": "Python 3",
      "language": "python",
      "name": "python3"
    },
    "language_info": {
      "codemirror_mode": {
        "name": "ipython",
        "version": 3
      },
      "file_extension": ".py",
      "mimetype": "text/x-python",
      "name": "python",
      "nbconvert_exporter": "python",
      "pygments_lexer": "ipython3",
      "version": "3.7.7"
    },
    "colab": {
      "provenance": []
    }
  },
  "nbformat": 4,
  "nbformat_minor": 5
}